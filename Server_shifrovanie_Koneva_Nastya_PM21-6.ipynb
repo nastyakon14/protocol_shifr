{
 "cells": [
  {
   "cell_type": "code",
   "execution_count": 3,
   "id": "1c289f63",
   "metadata": {},
   "outputs": [],
   "source": [
    "from DH import *\n",
    "import socket\n",
    "import threading\n",
    "import datetime\n",
    "\n",
    "class ThreadedServer():\n",
    "    def __init__(self,public_key, private_key, host = '', port = 9091):\n",
    "        self.host = host\n",
    "        self.port = port\n",
    "        self.public_key = public_key\n",
    "        self.private_key = private_key\n",
    "        self.socket = socket.socket()\n",
    "        self.socket.bind((self.host, self.port))\n",
    "    \n",
    "    def client_processing(self, conn, addr, data_batch = 1024):\n",
    "        while True:\n",
    "            data = conn.recv(data_batch)\n",
    "            print(f'{datetime.datetime.now()} INFO: Получены данные от клиента:', data.decode('utf-8'))\n",
    "            if data.decode('utf-8') == 'get_public_key':\n",
    "                conn.send(bytes(self.public_key, 'utf-8'))\n",
    "            if (str(data.decode('utf-8')).split(' '))[0] == 'public_key':\n",
    "                client_public_key = int(str(data.decode('utf-8'))[1])\n",
    "                shr = DH(self.public_key, client_public_key, self.private_key)\n",
    "                partial_key = shr.generate_partial_key()\n",
    "                conn.send(bytes(partial_key, 'utf-8'))\n",
    "            if (str(data.decode('utd-8')).split(' '))[0] == 'partial_key':\n",
    "                partial_key_r = int((str(data.decode('utf-8')).split(' '))[1])\n",
    "                full_key = shr.generate_full_key(partial_key_r)    \n",
    "            if not data:\n",
    "                print(f'{datetime.datetime.now()} INFO: Соединение с {addr} разорвано')\n",
    "                break\n",
    "            data = shr.decrypt_message(data.decode('utf-8'))\n",
    "            data = data.upper()\n",
    "            data = shr.encrypt_message(data)\n",
    "            print(f'{datetime.datetime.now()} INFO: Отправлены данные клиенту:', data)\n",
    "            conn.send(bytes(data, 'utf-8'))\n",
    "        print(f'{datetime.datetime.now()} INFO: Закрываем соединение с {addr}')\n",
    "        conn.close()\n",
    "    \n",
    "    \n",
    "    def listen(self, num = 10):\n",
    "        self.socket.listen(num)\n",
    "        while True:\n",
    "            client_conn, client_addr = self.socket.accept()\n",
    "            print('INFO: Создано подключение:', client_addr)\n",
    "            threading.Thread(target = self.client_processing, args = (client_conn, client_addr))"
   ]
  },
  {
   "cell_type": "code",
   "execution_count": 4,
   "id": "d592fb02",
   "metadata": {},
   "outputs": [],
   "source": [
    "public_key = 123\n",
    "private_key = 189\n",
    "server = ThreadedServer(public_key,private_key)"
   ]
  },
  {
   "cell_type": "code",
   "execution_count": null,
   "id": "9a2f8cb6",
   "metadata": {},
   "outputs": [],
   "source": [
    "server.listen(5)"
   ]
  },
  {
   "cell_type": "code",
   "execution_count": null,
   "id": "5a5a8a8f",
   "metadata": {},
   "outputs": [],
   "source": []
  }
 ],
 "metadata": {
  "kernelspec": {
   "display_name": "Python 3 (ipykernel)",
   "language": "python",
   "name": "python3"
  },
  "language_info": {
   "codemirror_mode": {
    "name": "ipython",
    "version": 3
   },
   "file_extension": ".py",
   "mimetype": "text/x-python",
   "name": "python",
   "nbconvert_exporter": "python",
   "pygments_lexer": "ipython3",
   "version": "3.9.13"
  }
 },
 "nbformat": 4,
 "nbformat_minor": 5
}
