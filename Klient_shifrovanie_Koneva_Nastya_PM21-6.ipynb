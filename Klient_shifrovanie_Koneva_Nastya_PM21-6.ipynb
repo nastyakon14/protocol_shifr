{
 "cells": [
  {
   "cell_type": "code",
   "execution_count": null,
   "id": "deee5f19",
   "metadata": {},
   "outputs": [],
   "source": [
    "from DH import *\n",
    "import socket\n",
    "import datetime\n",
    "sock = socket.socket()\n",
    "sock.connect(('localhost', 9091))\n",
    "public_key = 182\n",
    "private_key = 157\n",
    "\n",
    "\n",
    "while True:\n",
    "    mes = input('Enter message: ')\n",
    "    if mes == 'get_public_key':\n",
    "        sock.send(mes.encode('utf-8'))\n",
    "        data = sock.recv(1024)\n",
    "        server_public_key = int(data.decode('utf-8'))\n",
    "        khr = DH(public_key, server_public_key, private_key)\n",
    "        partial_key = khr.generate_partial_key()\n",
    "        print(f'{datetime.datetime.now()} Recieved: ', data.decode('utf-8'))     \n",
    "    if mes == 'public_key':\n",
    "        mes = mes + ' ' + str(public_key)\n",
    "        sock.send(mes.encode('utf-8'))\n",
    "        data = sock.recv(1024)\n",
    "        partial_key_r = int(data.decode('utf-8'))\n",
    "        full_key = khr.generate_full_key(partial_key_r)\n",
    "        print(f'{datetime.datetime.now()} Recieved: ', data.decode('utf-8'))\n",
    "    if mes == 'partial_key':\n",
    "        mes = mes + ' ' + str(partial_key)\n",
    "        sock.send(mes.encode('utf-8'))\n",
    "    else:\n",
    "        mes = khr.encrypt_message(mes)\n",
    "        sock.send(mes.encode('utf-8'))\n",
    "        data = sock.recv(1024)\n",
    "        data = khr.decrypt_message(data.decode('utf-8'))\n",
    "        print(f'{datetime.datetime.now()} Recieved: ', data)"
   ]
  },
  {
   "cell_type": "code",
   "execution_count": null,
   "id": "993daf7a",
   "metadata": {},
   "outputs": [],
   "source": []
  }
 ],
 "metadata": {
  "kernelspec": {
   "display_name": "Python 3",
   "language": "python",
   "name": "python3"
  },
  "language_info": {
   "codemirror_mode": {
    "name": "ipython",
    "version": 3
   },
   "file_extension": ".py",
   "mimetype": "text/x-python",
   "name": "python",
   "nbconvert_exporter": "python",
   "pygments_lexer": "ipython3",
   "version": "3.10.4 (v3.10.4:9d38120e33, Mar 23 2022, 17:29:05) [Clang 13.0.0 (clang-1300.0.29.30)]"
  },
  "vscode": {
   "interpreter": {
    "hash": "aee8b7b246df8f9039afb4144a1f6fd8d2ca17a180786b69acc140d282b71a49"
   }
  }
 },
 "nbformat": 4,
 "nbformat_minor": 5
}
